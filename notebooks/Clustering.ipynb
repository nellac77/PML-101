{
 "cells": [
  {
   "cell_type": "markdown",
   "metadata": {},
   "source": [
    "<img src='img/logo.png'>\n",
    "<img src='img/title.png'>"
   ]
  },
  {
   "cell_type": "markdown",
   "metadata": {},
   "source": [
    "# Clustering unlabeld data"
   ]
  },
  {
   "cell_type": "markdown",
   "metadata": {},
   "source": [
    "Clustering refers to the collection of algorithms that search for regions of similarity in a collection of unlabeled data.\n",
    "\n",
    "The goal of cluster algorithms is to divide a collection of points into discrete labels.\n",
    "\n",
    "Each method makes particular assumptions about the expected shapes and densities of the clusters to be modeled."
   ]
  },
  {
   "cell_type": "markdown",
   "metadata": {},
   "source": [
    "# Table of Contents\n",
    "* [Clustering unlabeld data](#Clustering-unlabeld-data)\n",
    "* [Setup](#Setup)\n",
    "* [Blobs, moons and circles](#Blobs,-moons-and-circles)\n",
    "* [KMeans](#KMeans)\n",
    "\t* [Fitting](#Fitting)\n",
    "\t* [Labels](#Labels)\n",
    "\t* [Incorrect assumptions](#Incorrect-assumptions)\n",
    "* [Agglomerative Clustering](#Agglomerative-Clustering)\n",
    "\t* [Complex cluster shapes](#Complex-cluster-shapes)\n",
    "* [Density-based clustering](#Density-based-clustering)\n",
    "\t* [Labels and noise](#Labels-and-noise)\n",
    "\t* [Complex shapes](#Complex-shapes)\n"
   ]
  },
  {
   "cell_type": "markdown",
   "metadata": {},
   "source": [
    "# Setup"
   ]
  },
  {
   "cell_type": "code",
   "execution_count": null,
   "metadata": {},
   "outputs": [],
   "source": [
    "#Fix working directory\n",
    "%cd notebooks"
   ]
  },
  {
   "cell_type": "code",
   "execution_count": null,
   "metadata": {},
   "outputs": [],
   "source": [
    "import pandas as pd\n",
    "import numpy as np\n",
    "\n",
    "import matplotlib.pyplot as plt\n",
    "from matplotlib.cm import Accent\n",
    "%matplotlib inline\n",
    "\n",
    "import hvplot.pandas\n",
    "import holoviews as hv\n",
    "import panel as pn\n",
    "hv.extension('bokeh')\n",
    "\n",
    "import src.mglearn as mglearn"
   ]
  },
  {
   "cell_type": "markdown",
   "metadata": {},
   "source": [
    "# Blobs, moons and circles"
   ]
  },
  {
   "cell_type": "markdown",
   "metadata": {},
   "source": [
    "In this notebook we'll start with randomly generated datasets in two dimensions to demonstrate the clustering algorithms.\n",
    "\n",
    "Since we're doing *unsupervised* learning the labels will be used for validation against the entire dataset."
   ]
  },
  {
   "cell_type": "code",
   "execution_count": null,
   "metadata": {},
   "outputs": [],
   "source": [
    "from sklearn.cluster import KMeans\n",
    "from sklearn.datasets import make_blobs, make_moons, make_circles"
   ]
  },
  {
   "cell_type": "code",
   "execution_count": null,
   "metadata": {},
   "outputs": [],
   "source": [
    "blobs, blobs_y = make_blobs(n_features=2, n_samples=1000, centers=2, random_state=0)\n",
    "moons, moons_y = make_moons(n_samples=1000, noise=0.05, random_state=0)\n",
    "circles, circles_y = make_circles(n_samples=1000, noise=0.05, factor=0.5)"
   ]
  },
  {
   "cell_type": "code",
   "execution_count": null,
   "metadata": {},
   "outputs": [],
   "source": [
    "plot_options = dict(size=8, width=450, height=300, color='Category', cmap='Accent', padding=0.1)\n",
    "\n",
    "b = hv.Points((blobs[:,0], blobs[:,1], blobs_y), vdims=['Category'], label='Blobs').options(**plot_options)\n",
    "m = hv.Points((moons[:,0], moons[:,1], moons_y), vdims=['Category'], label='Moons').options(**plot_options)\n",
    "c = hv.Points((circles[:,0], circles[:,1], circles_y), vdims=['Category'], label='Circles').options(**plot_options)\n",
    "\n",
    "pn.Column(pn.Row(c,m), b)"
   ]
  },
  {
   "cell_type": "markdown",
   "metadata": {},
   "source": [
    "# KMeans"
   ]
  },
  {
   "cell_type": "markdown",
   "metadata": {},
   "source": [
    "The KMeans algorithm seeks to divide the input data into `n_clusters` by assigning points to one of the centers. The center positions are optimized to minimize the distance from each point to the center.\n",
    "\n",
    "Upon convergence the cluster centers are averages of the points to which they are assigned.\n",
    "\n",
    "The KMeans clustering algorithm *requires* that the expected number of labels be provided."
   ]
  },
  {
   "cell_type": "code",
   "execution_count": null,
   "metadata": {},
   "outputs": [],
   "source": [
    "from sklearn.cluster import KMeans"
   ]
  },
  {
   "cell_type": "markdown",
   "metadata": {},
   "source": [
    "## Fitting"
   ]
  },
  {
   "cell_type": "code",
   "execution_count": null,
   "metadata": {},
   "outputs": [],
   "source": [
    "kmeans = KMeans(n_clusters=2)\n",
    "\n",
    "kmeans.fit(blobs)"
   ]
  },
  {
   "cell_type": "markdown",
   "metadata": {},
   "source": [
    "## Labels"
   ]
  },
  {
   "cell_type": "markdown",
   "metadata": {},
   "source": [
    "The `label_` attribute is the label assignment for the input data."
   ]
  },
  {
   "cell_type": "code",
   "execution_count": null,
   "metadata": {},
   "outputs": [],
   "source": [
    "kmeans.labels_[:10]"
   ]
  },
  {
   "cell_type": "markdown",
   "metadata": {},
   "source": [
    "The `.predict()` method can predict labels for new data."
   ]
  },
  {
   "cell_type": "code",
   "execution_count": null,
   "metadata": {},
   "outputs": [],
   "source": [
    "kmeans.predict(blobs)[:10]"
   ]
  },
  {
   "cell_type": "markdown",
   "metadata": {},
   "source": [
    "KMeans assumes that each cluster has the same diameter.\n",
    "\n",
    "\n",
    "The boundary is a straight line between the the two centers (red points)."
   ]
  },
  {
   "cell_type": "code",
   "execution_count": null,
   "metadata": {},
   "outputs": [],
   "source": [
    "b + \\\n",
    "(hv.Points((blobs[:,0], blobs[:, 1], kmeans.predict(blobs)),\n",
    "              label='KMeans', vdims=['Category']).options(**plot_options) \\\n",
    "* hv.Points(kmeans.cluster_centers_))"
   ]
  },
  {
   "cell_type": "markdown",
   "metadata": {},
   "source": [
    "## Incorrect assumptions"
   ]
  },
  {
   "cell_type": "markdown",
   "metadata": {},
   "source": [
    "KMeans assumes that the clusters are *convex and isotropic* and do not overlap.\n",
    "\n",
    "Preprocessing a large feature space with [Principle Component Analysis](http://scikit-learn.org/stable/modules/generated/sklearn.decomposition.PCA.html) to reduce the number of dimensions is recommended."
   ]
  },
  {
   "cell_type": "code",
   "execution_count": null,
   "metadata": {},
   "outputs": [],
   "source": [
    "kmeans.fit(moons)"
   ]
  },
  {
   "cell_type": "code",
   "execution_count": null,
   "metadata": {},
   "outputs": [],
   "source": [
    "m + \\\n",
    "(hv.Points((moons[:,0], moons[:, 1], kmeans.predict(moons)),\n",
    "              label='KMeans', vdims=['Category']).options(**plot_options) \\\n",
    "* hv.Points(kmeans.cluster_centers_))"
   ]
  },
  {
   "cell_type": "code",
   "execution_count": null,
   "metadata": {},
   "outputs": [],
   "source": [
    "kmeans.fit(circles)\n",
    "\n",
    "c + \\\n",
    "(hv.Points((circles[:,0], circles[:, 1], kmeans.predict(circles)),\n",
    "              label='KMeans', vdims=['Category']).options(**plot_options) \\\n",
    "* hv.Points(kmeans.cluster_centers_))"
   ]
  },
  {
   "cell_type": "markdown",
   "metadata": {},
   "source": [
    "By requesting many clusters it may actually be possible to separate the two moons.\n",
    "\n",
    "Notice that the new labels may be further modeled using a supervised learning method like KNeighbors."
   ]
  },
  {
   "cell_type": "code",
   "execution_count": null,
   "metadata": {},
   "outputs": [],
   "source": [
    "kmeans = KMeans(n_clusters=10)\n",
    "\n",
    "kmeans.fit(moons)"
   ]
  },
  {
   "cell_type": "code",
   "execution_count": null,
   "metadata": {},
   "outputs": [],
   "source": [
    "m + \\\n",
    "(hv.Points((moons[:,0], moons[:, 1], kmeans.predict(moons)),\n",
    "              label='KMeans', vdims=['Category']).options(**plot_options) \\\n",
    "* hv.Points(kmeans.cluster_centers_))"
   ]
  },
  {
   "cell_type": "markdown",
   "metadata": {},
   "source": [
    "# Agglomerative Clustering"
   ]
  },
  {
   "cell_type": "markdown",
   "metadata": {},
   "source": [
    "Agglomerative clustering *grows* clusters from each point in the data set.\n",
    "\n",
    "Starting with every point in its own cluster, the clusters are merged by proximity until `n_clusters` have been generated."
   ]
  },
  {
   "cell_type": "code",
   "execution_count": null,
   "metadata": {},
   "outputs": [],
   "source": [
    "from sklearn.cluster import AgglomerativeClustering"
   ]
  },
  {
   "cell_type": "code",
   "execution_count": null,
   "metadata": {},
   "outputs": [],
   "source": [
    "agg = AgglomerativeClustering(n_clusters=2)"
   ]
  },
  {
   "cell_type": "code",
   "execution_count": null,
   "metadata": {},
   "outputs": [],
   "source": [
    "agg.fit(blobs)"
   ]
  },
  {
   "cell_type": "code",
   "execution_count": null,
   "metadata": {},
   "outputs": [],
   "source": [
    "b + hv.Points((blobs[:,0], blobs[:, 1], agg.labels_),\n",
    "              label='Agglomerative', vdims=['Category']).options(**plot_options)"
   ]
  },
  {
   "cell_type": "markdown",
   "metadata": {},
   "source": [
    "## Complex cluster shapes"
   ]
  },
  {
   "cell_type": "markdown",
   "metadata": {},
   "source": [
    "AgglomerativeClustering is still having trouble with moons and circles."
   ]
  },
  {
   "cell_type": "code",
   "execution_count": null,
   "metadata": {},
   "outputs": [],
   "source": [
    "agg.fit(moons)\n",
    "\n",
    "m + hv.Points((moons[:,0], moons[:, 1], agg.labels_),\n",
    "              label='Agglomerative', vdims=['Category']).options(**plot_options)"
   ]
  },
  {
   "cell_type": "code",
   "execution_count": null,
   "metadata": {},
   "outputs": [],
   "source": [
    "agg.fit(circles)\n",
    "\n",
    "c + hv.Points((circles[:,0], circles[:, 1], agg.labels_),\n",
    "              label='Agglomerative', vdims=['Category']).options(**plot_options)"
   ]
  },
  {
   "cell_type": "markdown",
   "metadata": {},
   "source": [
    "# Density-based clustering"
   ]
  },
  {
   "cell_type": "markdown",
   "metadata": {},
   "source": [
    "The DBSCAN model assumes that clusters form dense regions in space *separated* by relatively sparse regions.\n",
    "\n",
    "DBSCAN does not need to know the expected number of clusters, but will discover the clusters iteratively as regions of high density.\n",
    "\n",
    "Regions of high density are defined as\n",
    "* number of points `min_samples`\n",
    "* within a distance of `eps` from any point\n",
    "\n",
    "All other points are defined as noise.\n",
    "\n",
    "Small values of `eps` mean that all points will be labeled as noise.\n",
    "\n",
    "Large values of `eps` assign all points to a single cluster."
   ]
  },
  {
   "cell_type": "code",
   "execution_count": null,
   "metadata": {},
   "outputs": [],
   "source": [
    "from sklearn.cluster import DBSCAN"
   ]
  },
  {
   "cell_type": "code",
   "execution_count": null,
   "metadata": {},
   "outputs": [],
   "source": [
    "dbscan = DBSCAN()"
   ]
  },
  {
   "cell_type": "code",
   "execution_count": null,
   "metadata": {},
   "outputs": [],
   "source": [
    "dbscan.fit(blobs)"
   ]
  },
  {
   "cell_type": "markdown",
   "metadata": {},
   "source": [
    "## Labels and noise"
   ]
  },
  {
   "cell_type": "markdown",
   "metadata": {},
   "source": [
    "For the blobs DBSCAN only found one real cluster.\n",
    "\n",
    "Points assigned to `-1` are considered *noise* since they do not belong to the cluster."
   ]
  },
  {
   "cell_type": "code",
   "execution_count": null,
   "metadata": {},
   "outputs": [],
   "source": [
    "np.unique(dbscan.labels_, return_counts=True)"
   ]
  },
  {
   "cell_type": "code",
   "execution_count": null,
   "metadata": {},
   "outputs": [],
   "source": [
    "dbscan.labels_[-25:]"
   ]
  },
  {
   "cell_type": "markdown",
   "metadata": {},
   "source": [
    "Most of the points are labeled in a single cluster with a few noise points."
   ]
  },
  {
   "cell_type": "code",
   "execution_count": null,
   "metadata": {},
   "outputs": [],
   "source": [
    "b + hv.Points((blobs[:,0], blobs[:, 1], dbscan.labels_),\n",
    "              label='DBSCAN', vdims=['Category']).options(**plot_options)"
   ]
  },
  {
   "cell_type": "markdown",
   "metadata": {},
   "source": [
    "## Complex shapes"
   ]
  },
  {
   "cell_type": "markdown",
   "metadata": {},
   "source": [
    "With the right value of `eps` the moons clusters can be modeled.\n",
    "\n",
    "It is important to normalize the data first with the StandardScaler or MinMaxScaler to normalize all features to similar ranges."
   ]
  },
  {
   "cell_type": "code",
   "execution_count": null,
   "metadata": {},
   "outputs": [],
   "source": [
    "dbscan = DBSCAN(eps=0.2)\n",
    "\n",
    "dbscan.fit(moons)"
   ]
  },
  {
   "cell_type": "code",
   "execution_count": null,
   "metadata": {},
   "outputs": [],
   "source": [
    "m + hv.Points((moons[:,0], moons[:, 1], dbscan.labels_),\n",
    "              label='DBSCAN', vdims=['Category']).options(**plot_options)"
   ]
  },
  {
   "cell_type": "code",
   "execution_count": null,
   "metadata": {},
   "outputs": [],
   "source": [
    "dbscan = DBSCAN(eps=0.2)\n",
    "\n",
    "dbscan.fit(circles)"
   ]
  },
  {
   "cell_type": "code",
   "execution_count": null,
   "metadata": {},
   "outputs": [],
   "source": [
    "c + hv.Points((circles[:,0], circles[:, 1], dbscan.labels_),\n",
    "              label='DBSCAN', vdims=['Category']).options(**plot_options)"
   ]
  },
  {
   "cell_type": "markdown",
   "metadata": {},
   "source": [
    "<img src='img/copyright.png'>"
   ]
  }
 ],
 "metadata": {
  "kernelspec": {
   "display_name": "Python 3 [module-machine-learning]",
   "language": "python",
   "name": "anaconda-project-module-machine-learning-python3"
  },
  "language_info": {
   "codemirror_mode": {
    "name": "ipython",
    "version": 3
   },
   "file_extension": ".py",
   "mimetype": "text/x-python",
   "name": "python",
   "nbconvert_exporter": "python",
   "pygments_lexer": "ipython3",
   "version": "3.6.8"
  }
 },
 "nbformat": 4,
 "nbformat_minor": 2
}
